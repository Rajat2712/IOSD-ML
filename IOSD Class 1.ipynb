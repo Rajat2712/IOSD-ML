{
 "cells": [
  {
   "cell_type": "markdown",
   "metadata": {
    "collapsed": true
   },
   "source": [
    "python data \n",
    "x=4 print(x)\n",
    "x=four\n",
    "print x\n"
   ]
  },
  {
   "cell_type": "markdown",
   "metadata": {
    "collapsed": true
   },
   "source": [
    "\n",
    "\n",
    "\n",
    "/* C code */\n",
    "int x = 4;\n",
    "x = \"four\";  // FAILS\n",
    "\n",
    "\n",
    "\n",
    "\n",
    "\n"
   ]
  },
  {
   "cell_type": "code",
   "execution_count": 1,
   "metadata": {},
   "outputs": [
    {
     "name": "stdout",
     "output_type": "stream",
     "text": [
      "4\n",
      "four\n"
     ]
    }
   ],
   "source": [
    "# Python code\n",
    "x = 4\n",
    "print (x)\n",
    "x = \"four\"\n",
    "print (x)"
   ]
  },
  {
   "cell_type": "code",
   "execution_count": 2,
   "metadata": {},
   "outputs": [
    {
     "name": "stdout",
     "output_type": "stream",
     "text": [
      "<class 'int'>\n",
      "this is a string\n",
      "<class 'str'>\n",
      "this is a new string\n",
      "--------------------------------------------------------------------------------\n",
      "16\n",
      "this is a string\n",
      "['thi', ' i', ' a ', 'tring']\n"
     ]
    }
   ],
   "source": [
    "# Integers, Strings\n",
    "my_var = 1\n",
    "\n",
    "print (type(my_var))\n",
    "\n",
    "my_var = 'this is a string'\n",
    "print (my_var,)\n",
    "print (type(my_var))\n",
    "\n",
    "print ('this is ' + 'a new string')\n",
    "print ('-'*80)\n",
    "\n",
    "# Strings\n",
    "s = 'ThiS Is a String'\n",
    "print (s.__len__())\n",
    "\n",
    "print (s.lower())\n",
    "\n",
    "print (s.lower().split('s'))\n"
   ]
  },
  {
   "attachments": {
    "image.png": {
     "image/png": "[encoded data removed]"
    }
   },
   "cell_type": "markdown",
   "metadata": {},
   "source": [
    "# 1\n",
    "\n",
    "A Python Integer Is More Than Just an Integer\n",
    "\n",
    "The standard Python implementation is written in C. This means that every Python object is simply a cleverly-disguised C structure, which contains not only its value, but other information as well. For example, when we define an integer in Python, such as x = 10000, x is not just a \"raw\" integer. It's actually a pointer to a compound C structure, which contains several values. Looking through the Python 3.4 source code, we find that the integer (long) type definition effectively looks like this (once the C macros are expanded):\n",
    "\n",
    "struct _longobject {\n",
    "    long ob_refcnt;\n",
    "    PyTypeObject *ob_type;\n",
    "    size_t ob_size;\n",
    "    long ob_digit[1];\n",
    "};\n",
    "\n",
    "\n",
    "A single integer in Python 3.4 actually contains four pieces:\n",
    "\n",
    "    ob_refcnt, a reference count that helps Python silently handle memory allocation and deallocation\n",
    "    ob_type, which encodes the type of the variable\n",
    "    ob_size, which specifies the size of the following data members\n",
    "    ob_digit, which contains the actual integer value that we expect the Python variable to represent.\n",
    "\n",
    "This means that there is some overhead in storing an integer in Python as compared to an integer in a compiled language like C, as illustrated in the following figure:\n",
    "\n",
    "\n",
    "![image.png](attachment:image.png)\n",
    "\n",
    "\n",
    "Integer Memory Layout\n",
    "\n",
    "Here PyObject_HEAD is the part of the structure containing the reference count, type code, and other pieces mentioned before.\n",
    "\n",
    "Notice the difference here: a C integer is essentially a label for a position in memory whose bytes encode an integer value. A Python integer is a pointer to a position in memory containing all the Python object information, including the bytes that contain the integer value. This extra information in the Python integer structure is what allows Python to be coded so freely and dynamically. All this additional information in Python types comes at a cost, however, which becomes especially apparent in structures that combine many of these objects.\n"
   ]
  },
  {
   "cell_type": "code",
   "execution_count": 3,
   "metadata": {},
   "outputs": [
    {
     "name": "stdout",
     "output_type": "stream",
     "text": [
      "9\n",
      "81\n"
     ]
    }
   ],
   "source": [
    "#integers\n",
    "\n",
    "init_int = 3\n",
    "print (init_int*3)\n",
    "print (init_int**4)"
   ]
  },
  {
   "cell_type": "code",
   "execution_count": 4,
   "metadata": {},
   "outputs": [
    {
     "name": "stdout",
     "output_type": "stream",
     "text": [
      "0.1\n",
      "[1.0, 'ac', [1, 2, '111'], 0.1]\n",
      "111\n",
      "97 b\n",
      "--------------------------------------------------------------------------------\n"
     ]
    }
   ],
   "source": [
    "# Lists\n",
    "l = [1.0, 'ac', [1, 2, '111'], 0.1]\n",
    "print (l[-1])\n",
    "print (l)\n",
    "\n",
    "print (int(l[2][-1]))\n",
    "\n",
    "print (ord('a'), chr(98))\n",
    "\n",
    "print ('-'*80)\n",
    "\n"
   ]
  },
  {
   "cell_type": "code",
   "execution_count": 5,
   "metadata": {},
   "outputs": [
    {
     "data": {
      "text/plain": [
       "[bool, str, float, int]"
      ]
     },
     "execution_count": 5,
     "metadata": {},
     "output_type": "execute_result"
    }
   ],
   "source": [
    "L3 = [True, \"2\", 3.0, 4]\n",
    "[type(item) for item in L3]"
   ]
  },
  {
   "cell_type": "code",
   "execution_count": 6,
   "metadata": {},
   "outputs": [
    {
     "name": "stdout",
     "output_type": "stream",
     "text": [
      "[True, '2', 3.0, 4, 89]\n"
     ]
    }
   ],
   "source": [
    "#to insert value in list if index mention is greater than the last then by default added at last position\n",
    "L3.insert(7,89)\n",
    "print (L3)\n",
    "\n"
   ]
  },
  {
   "cell_type": "code",
   "execution_count": 7,
   "metadata": {},
   "outputs": [
    {
     "name": "stdout",
     "output_type": "stream",
     "text": [
      "[True, '2', 69, 3.0, 4, 89]\n"
     ]
    }
   ],
   "source": [
    "#to insert at specific position\n",
    "L3.insert(2,69)\n",
    "\n",
    "print (L3)"
   ]
  },
  {
   "cell_type": "code",
   "execution_count": 8,
   "metadata": {},
   "outputs": [
    {
     "name": "stdout",
     "output_type": "stream",
     "text": [
      "[True, '2', 69, 3.0, 4, 89, 32]\n"
     ]
    }
   ],
   "source": [
    "#to insert at the end\n",
    "L3.append(32)\n",
    "print (L3)"
   ]
  },
  {
   "cell_type": "code",
   "execution_count": 9,
   "metadata": {},
   "outputs": [
    {
     "name": "stdout",
     "output_type": "stream",
     "text": [
      "[True, '2', 69, 3.0, 4, 89, 32, 51, 52, 53, 54]\n"
     ]
    }
   ],
   "source": [
    "# to insert more than one value at the end\n",
    "L3.extend([51,52,53,54])\n",
    "print (L3)"
   ]
  },
  {
   "cell_type": "code",
   "execution_count": 10,
   "metadata": {},
   "outputs": [
    {
     "data": {
      "text/plain": [
       "5"
      ]
     },
     "execution_count": 10,
     "metadata": {},
     "output_type": "execute_result"
    }
   ],
   "source": [
    "#to check index\n",
    "L3.index(89)"
   ]
  },
  {
   "cell_type": "code",
   "execution_count": 11,
   "metadata": {},
   "outputs": [
    {
     "name": "stdout",
     "output_type": "stream",
     "text": [
      "[[1, 5], [4, 2], [7, 3], [0, -1]]\n",
      "[[1, 5], [4, 2], [7, 3], [0, -1]]\n",
      "--------------------------------------------------------------------------------\n",
      "None\n",
      "[[0, -1], [1, 5], [4, 2], [7, 3]]\n",
      "--------------------------------------------------------------------------------\n",
      "[[0, -1], [1, 5], [4, 2], [7, 3]]\n",
      "[[1, 5], [4, 2], [7, 3], [0, -1]]\n",
      "--------------------------------------------------------------------------------\n",
      "[[0, -1], [4, 2], [7, 3], [1, 5]]\n",
      "[[1, 5], [7, 3], [4, 2], [0, -1]]\n"
     ]
    }
   ],
   "source": [
    "nums = [[1, 5], [4, 2], [7, 3], [0, -1]]\n",
    "print (nums)\n",
    "\n",
    "nums1 = [[1, 5], [4, 2], [7, 3], [0, -1]]\n",
    "print (nums1)\n",
    "\n",
    "#sorting \n",
    "#method 1 it will edit the original list \n",
    "print ('-'*80)\n",
    "print (nums.sort())\n",
    "print (nums)\n",
    "\n",
    "\n",
    "# method 2 using python function\n",
    "print ('-'*80)\n",
    "print (sorted(nums1))\n",
    "print (nums1)\n",
    "\n",
    "print ('-'*80)\n",
    "\n",
    "#sorting according to 2nd element\n",
    "print (sorted(nums1, key=lambda x:[x[1], x[0]]))\n",
    "\n",
    "# reverse order\n",
    "print (sorted(nums1, key=lambda x:[x[1], x[0]] , reverse=True))\n",
    "\n",
    "\n",
    "#nums.append(12)\n",
    "#nums.append(100)\n",
    "#print (nums)"
   ]
  },
  {
   "cell_type": "code",
   "execution_count": 6,
   "metadata": {},
   "outputs": [
    {
     "name": "stdout",
     "output_type": "stream",
     "text": [
      "qwqwqww\n",
      "0.1\n",
      "{'qqq': 1221, 2: 'val', 'my_key': 'qwqwqww', 'k': 0.2, 'q': [0, {0: 10, 'k': 1200}]}\n",
      "dict_keys(['qqq', 2, 'my_key', 'k', 'q'])\n",
      "dict_values([1221, 'val', 'qwqwqww', 0.2, [0, {0: 10, 'k': 1200}]])\n"
     ]
    }
   ],
   "source": [
    "#Dictionaries\n",
    "d = {2: 'val', 'k': 0.1, 'q': [0, {0: 10, 'k': 1200}]}\n",
    "\n",
    "#print (d['my_key'])\n",
    "\n",
    "print (d.setdefault('my_key', 'qwqwqww'))\n",
    "#insert key and value\n",
    "d['qqq'] = 1221\n",
    "\n",
    "#to get value using any key\n",
    "print (d['k'])\n",
    "\n",
    "#update any value\n",
    "d['k']=0.2\n",
    "\n",
    "print (d)\n",
    "print (d.keys())\n",
    "print (d.values())"
   ]
  },
  {
   "cell_type": "markdown",
   "metadata": {},
   "source": [
    "Print all key and values"
   ]
  },
  {
   "cell_type": "code",
   "execution_count": 13,
   "metadata": {},
   "outputs": [
    {
     "name": "stdout",
     "output_type": "stream",
     "text": [
      "q [0, {0: 10, 'k': 1200}]\n",
      "qqq 1221\n",
      "2 val\n",
      "k 0.1\n",
      "my_key qwqwqww\n"
     ]
    }
   ],
   "source": [
    "for i,j in d.items():\n",
    "    print (i,j)"
   ]
  },
  {
   "cell_type": "markdown",
   "metadata": {},
   "source": [
    "Get a value of a specified key"
   ]
  },
  {
   "cell_type": "code",
   "execution_count": 8,
   "metadata": {},
   "outputs": [
    {
     "name": "stdout",
     "output_type": "stream",
     "text": [
      "None key does not exist\n"
     ]
    }
   ],
   "source": [
    "#to\n",
    "print (d.get(3),'key does not exist')\n"
   ]
  },
  {
   "cell_type": "code",
   "execution_count": 12,
   "metadata": {},
   "outputs": [
    {
     "name": "stdout",
     "output_type": "stream",
     "text": [
      "a 34\n",
      "b 98\n",
      "c 12\n",
      "d 54\n",
      "e 23\n",
      "g 23\n",
      "h 34\n"
     ]
    }
   ],
   "source": [
    "#Sorting the dictionary\n",
    "d1={'a':34,'e':23,'b':98,'c':12,'d':54,'h':34,'g':23}\n",
    "for key, value in sorted(d1.items()):\n",
    "    print (key, value)\n",
    "    "
   ]
  },
  {
   "cell_type": "code",
   "execution_count": 16,
   "metadata": {},
   "outputs": [
    {
     "name": "stdout",
     "output_type": "stream",
     "text": [
      "(1, 2, 3)\n",
      "(1, 2, 3, 1, 2, 3)\n",
      "{1, 2, 3, 4, 5, 6, 8, 9}\n",
      "{0, 2, 3, 4, 99, 6, -1}\n"
     ]
    }
   ],
   "source": [
    "# Tuples\n",
    "a = (1, 2, 3)\n",
    "print (a)\n",
    "print (a+a)\n",
    "\n",
    "# Sets\n",
    "p = set([1, 4, 3, 2, 2, 3, 4, 5, 6, 4, 5, 3, 8, 9])\n",
    "q = set([-1, 0, 4, 3, 2, 3, 3, 2, 6, 99])\n",
    "\n",
    "print (p)\n",
    "print (q)"
   ]
  },
  {
   "cell_type": "code",
   "execution_count": 17,
   "metadata": {},
   "outputs": [
    {
     "name": "stdout",
     "output_type": "stream",
     "text": [
      "10\n",
      "12\n",
      "14\n",
      "16\n",
      "18\n"
     ]
    }
   ],
   "source": [
    "for i in range(10, 20, 2):\n",
    "    print (i)\n"
   ]
  },
  {
   "cell_type": "code",
   "execution_count": 18,
   "metadata": {},
   "outputs": [
    {
     "name": "stdout",
     "output_type": "stream",
     "text": [
      "NO\n"
     ]
    }
   ],
   "source": [
    "x = 20\n",
    "\n",
    "if x > 5 and x < 12:\n",
    "    print (\"YES\")\n",
    "elif x >= 12 and x<20:\n",
    "    print ('MED')\n",
    "else:\n",
    "    print ('NO')"
   ]
  },
  {
   "cell_type": "code",
   "execution_count": 19,
   "metadata": {},
   "outputs": [
    {
     "name": "stdout",
     "output_type": "stream",
     "text": [
      "0 1.0\n",
      "1 ac\n",
      "2 [1, 2, '111']\n",
      "3 0.1\n",
      "--------------------------------------------------------------------------------\n",
      "1.0\n",
      "ac\n",
      "[1, 2, '111']\n",
      "0.1\n",
      "--------------------------------------------------------------------------------\n",
      "0\n",
      "1\n",
      "2\n",
      "3\n",
      "4\n",
      "5\n",
      "6\n",
      "7\n",
      "8\n",
      "9\n"
     ]
    }
   ],
   "source": [
    "l = [1.0, 'ac', [1, 2, '111'], 0.1]\n",
    "for ix in range(len(l)):\n",
    "    print (ix, l[ix])\n",
    "    \n",
    "\n",
    "print ('-'*80)\n",
    "    \n",
    "for ix in l:\n",
    "    print (ix)\n",
    "\n",
    "\n",
    "\n",
    "print ('-'*80)\n",
    "i = 0\n",
    "while i<10:\n",
    "    print (i)\n",
    "    i += 1"
   ]
  },
  {
   "cell_type": "code",
   "execution_count": 20,
   "metadata": {},
   "outputs": [
    {
     "name": "stdout",
     "output_type": "stream",
     "text": [
      "1\n",
      "2\n",
      "Fizz\n",
      "4\n",
      "Buzz\n",
      "Fizz\n",
      "7\n",
      "8\n",
      "Fizz\n",
      "Buzz\n",
      "11\n",
      "Fizz\n",
      "13\n",
      "14\n",
      "FizzBuzz\n",
      "16\n",
      "17\n",
      "Fizz\n",
      "19\n",
      "Buzz\n",
      "Fizz\n",
      "22\n",
      "23\n",
      "Fizz\n",
      "Buzz\n",
      "26\n",
      "Fizz\n",
      "28\n",
      "29\n"
     ]
    }
   ],
   "source": [
    "# FizzBuzz\n",
    "r = range(1, 30)\n",
    "for ix in r:\n",
    "    if ix%3==0:\n",
    "        if ix%5==0:\n",
    "            print (\"FizzBuzz\")\n",
    "        else:\n",
    "            print (\"Fizz\")\n",
    "    elif ix%5==0:\n",
    "        print (\"Buzz\")\n",
    "    else:\n",
    "        print (ix)\n"
   ]
  },
  {
   "cell_type": "markdown",
   "metadata": {
    "collapsed": true
   },
   "source": [
    "# Good way in python"
   ]
  },
  {
   "cell_type": "code",
   "execution_count": 21,
   "metadata": {},
   "outputs": [
    {
     "name": "stdout",
     "output_type": "stream",
     "text": [
      "Found\n"
     ]
    }
   ],
   "source": [
    "needle='a'\n",
    "haystack=['a','b','c']\n",
    "found =False\n",
    "for letter in haystack:\n",
    "    if needle == letter:\n",
    "        print ('Found')\n",
    "        found=True\n",
    "        break\n",
    "if not found:\n",
    "    print('not found')"
   ]
  },
  {
   "cell_type": "code",
   "execution_count": 22,
   "metadata": {},
   "outputs": [
    {
     "name": "stdout",
     "output_type": "stream",
     "text": [
      "Found\n",
      "not found\n"
     ]
    }
   ],
   "source": [
    "for letter in haystack:\n",
    "    #break\n",
    "    if needle == letter:\n",
    "        print ('Found')\n",
    "        #break\n",
    "else :\n",
    "    print ('not found')"
   ]
  },
  {
   "cell_type": "code",
   "execution_count": 23,
   "metadata": {},
   "outputs": [
    {
     "name": "stdout",
     "output_type": "stream",
     "text": [
      "sita is unknown years old\n"
     ]
    }
   ],
   "source": [
    "ages={\n",
    "    'ram':30,\n",
    "    'sham':32\n",
    "}\n",
    "if 'sita' in ages:\n",
    "    age=ages['sita']\n",
    "else:\n",
    "    age='unknown'\n",
    "print ('sita is %s years old'%age)"
   ]
  },
  {
   "cell_type": "code",
   "execution_count": 24,
   "metadata": {},
   "outputs": [
    {
     "name": "stdout",
     "output_type": "stream",
     "text": [
      "sita is unknown years old\n"
     ]
    }
   ],
   "source": [
    "age1=ages.get('sita','unknown')\n",
    "print ('sita is %s years old'%age1)"
   ]
  },
  {
   "cell_type": "code",
   "execution_count": 25,
   "metadata": {},
   "outputs": [
    {
     "name": "stdout",
     "output_type": "stream",
     "text": [
      "before : x=10,y=-10\n",
      "after : x=-10,y=10\n"
     ]
    }
   ],
   "source": [
    "x=10\n",
    "y=-10\n",
    "print('before : x=%d,y=%d'%(x,y))\n",
    "\n",
    "tmp=y\n",
    "y=x\n",
    "x=tmp\n",
    "print('after : x=%d,y=%d'%(x,y))"
   ]
  },
  {
   "cell_type": "code",
   "execution_count": 26,
   "metadata": {},
   "outputs": [
    {
     "name": "stdout",
     "output_type": "stream",
     "text": [
      "before : x=10,y=-10\n",
      "after : x=-10,y=10\n"
     ]
    }
   ],
   "source": [
    "x1=10\n",
    "y1=-10\n",
    "print('before : x=%d,y=%d'%(x1,y1))\n",
    "\n",
    "x1,y1=y1,x1\n",
    "print('after : x=%d,y=%d'%(x1,y1))\n"
   ]
  },
  {
   "cell_type": "code",
   "execution_count": 27,
   "metadata": {},
   "outputs": [
    {
     "name": "stdout",
     "output_type": "stream",
     "text": [
      "1 4\n",
      "2 5\n",
      "3 6\n"
     ]
    }
   ],
   "source": [
    "x_list=[1,2,3]\n",
    "y_list=[4,5,6]\n",
    "for i in range(len(x_list)):\n",
    "    x=x_list[i]\n",
    "    y=y_list[i]\n",
    "    print (x,y)\n"
   ]
  },
  {
   "cell_type": "code",
   "execution_count": 28,
   "metadata": {},
   "outputs": [
    {
     "name": "stdout",
     "output_type": "stream",
     "text": [
      "1 4\n",
      "2 5\n",
      "3 6\n"
     ]
    }
   ],
   "source": [
    "for x,y in zip(x_list,y_list):\n",
    "    print (x,y)"
   ]
  },
  {
   "cell_type": "code",
   "execution_count": 29,
   "metadata": {},
   "outputs": [
    {
     "name": "stdout",
     "output_type": "stream",
     "text": [
      "0 a\n",
      "1 b\n",
      "2 c\n"
     ]
    }
   ],
   "source": [
    "cities=['a','b','c']\n",
    "i=0\n",
    "\n",
    "for city in cities:\n",
    "    print (i,city)\n",
    "    i+=1"
   ]
  },
  {
   "cell_type": "code",
   "execution_count": 30,
   "metadata": {},
   "outputs": [
    {
     "name": "stdout",
     "output_type": "stream",
     "text": [
      "0 a\n",
      "1 b\n",
      "2 c\n"
     ]
    }
   ],
   "source": [
    "for i,city in enumerate(cities):\n",
    "    print (i,city)"
   ]
  },
  {
   "cell_type": "code",
   "execution_count": null,
   "metadata": {
    "collapsed": true
   },
   "outputs": [],
   "source": []
  },
  {
   "cell_type": "code",
   "execution_count": null,
   "metadata": {
    "collapsed": true
   },
   "outputs": [],
   "source": []
  }
 ],
 "metadata": {
  "kernelspec": {
   "display_name": "Python 2",
   "language": "python",
   "name": "python2"
  },
  "language_info": {
   "codemirror_mode": {
    "name": "ipython",
    "version": 2
   },
   "file_extension": ".py",
   "mimetype": "text/x-python",
   "name": "python",
   "nbconvert_exporter": "python",
   "pygments_lexer": "ipython2",
   "version": "2.7.13"
  }
 },
 "nbformat": 4,
 "nbformat_minor": 2
}
