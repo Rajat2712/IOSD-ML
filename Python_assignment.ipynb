{
 "cells": [
  {
   "cell_type": "code",
   "execution_count": 20,
   "metadata": {},
   "outputs": [
    {
     "name": "stdout",
     "output_type": "stream",
     "text": [
      "8\n",
      "<class 'list'>\n"
     ]
    }
   ],
   "source": [
    "#Q1\n",
    "\n",
    "List=[1,2,3,4,5,6,7,8]\n",
    "\n",
    "print (List.__len__())\n",
    "len(List)\n",
    "print (type(List))"
   ]
  },
  {
   "cell_type": "code",
   "execution_count": 2,
   "metadata": {},
   "outputs": [
    {
     "name": "stdout",
     "output_type": "stream",
     "text": [
      "<class 'list'>\n",
      "[]\n"
     ]
    }
   ],
   "source": [
    "### Question 2\n",
    "some_list = list()\n",
    "print (type(some_list))\n",
    "print (some_list)"
   ]
  },
  {
   "cell_type": "code",
   "execution_count": 3,
   "metadata": {},
   "outputs": [
    {
     "name": "stdout",
     "output_type": "stream",
     "text": [
      "[1, 2, 3]\n"
     ]
    }
   ],
   "source": [
    "some_list = list([1, 2, 3])\n",
    "print (some_list)"
   ]
  },
  {
   "cell_type": "code",
   "execution_count": 4,
   "metadata": {},
   "outputs": [
    {
     "name": "stdout",
     "output_type": "stream",
     "text": [
      "[1, 2, 3]\n"
     ]
    }
   ],
   "source": [
    "some_list = [1, 2, 3]\n",
    "print (some_list)\n",
    "\n"
   ]
  },
  {
   "cell_type": "code",
   "execution_count": 22,
   "metadata": {},
   "outputs": [
    {
     "name": "stdout",
     "output_type": "stream",
     "text": [
      "1\n",
      "7\n",
      "28\n",
      "average = 3.5\n"
     ]
    }
   ],
   "source": [
    "#question 3\n",
    "\n",
    "s=[1,2,3,6,5,1,7,3]\n",
    "print (min(s))\n",
    "print (max(s))\n",
    "print (sum(s))\n",
    "print (\"average =\",(sum(s)/len(s)))\n"
   ]
  },
  {
   "cell_type": "code",
   "execution_count": 23,
   "metadata": {},
   "outputs": [
    {
     "name": "stdout",
     "output_type": "stream",
     "text": [
      "[2, 3, 1, 8, 4, 7, 6, 5]\n"
     ]
    }
   ],
   "source": [
    "# question 4 \n",
    "import random\n",
    "random.shuffle(List)\n",
    "print (List)"
   ]
  },
  {
   "cell_type": "code",
   "execution_count": 24,
   "metadata": {},
   "outputs": [
    {
     "name": "stdout",
     "output_type": "stream",
     "text": [
      "[7, 6, 5]\n"
     ]
    }
   ],
   "source": [
    "#q5\n",
    "print (List[-3:])"
   ]
  },
  {
   "cell_type": "code",
   "execution_count": 27,
   "metadata": {},
   "outputs": [
    {
     "name": "stdout",
     "output_type": "stream",
     "text": [
      "[1, 2, 3, 6, 5, 1, 7]\n",
      "--------------------------------------------------------------------------------\n",
      "[5, 1]\n",
      "--------------------------------------------------------------------------------\n",
      "[3, 6, 5]\n"
     ]
    }
   ],
   "source": [
    "#q6\n",
    "l1=[1,2,3,6,5,1,7,3]\n",
    "\n",
    "print (l1[:-1])\n",
    "\n",
    "print (\"-\"*80)\n",
    "\n",
    "print (l1[-4:-2])\n",
    "print (\"-\"*80)\n",
    "\n",
    "print (l1[2:-3])"
   ]
  },
  {
   "cell_type": "code",
   "execution_count": 30,
   "metadata": {},
   "outputs": [
    {
     "name": "stdout",
     "output_type": "stream",
     "text": [
      "64\n"
     ]
    }
   ],
   "source": [
    "def sq(a=8):\n",
    "    return a*a\n",
    "\n",
    "print (sq())"
   ]
  },
  {
   "cell_type": "code",
   "execution_count": 50,
   "metadata": {
    "collapsed": true
   },
   "outputs": [],
   "source": [
    "## Question 7\n",
    "def extendList(val, l=[]):\n",
    "    l.append(val)\n",
    "    return l"
   ]
  },
  {
   "cell_type": "code",
   "execution_count": 47,
   "metadata": {
    "collapsed": true
   },
   "outputs": [],
   "source": [
    "def extendList(val,l=None):\n",
    "    if l is None:\n",
    "        l = []\n",
    "    l.append(val)\n",
    "    return l"
   ]
  },
  {
   "cell_type": "code",
   "execution_count": 53,
   "metadata": {
    "collapsed": true
   },
   "outputs": [],
   "source": [
    "list1 = extendList(10)\n",
    "list2 = extendList(123,[])\n",
    "list3 = extendList('a')\n",
    "list4 = extendList(5)"
   ]
  },
  {
   "cell_type": "code",
   "execution_count": 54,
   "metadata": {},
   "outputs": [
    {
     "name": "stdout",
     "output_type": "stream",
     "text": [
      "[10, 'a', 5, 10, 'a', 5]\n",
      "[123]\n",
      "[10, 'a', 5, 10, 'a', 5]\n"
     ]
    }
   ],
   "source": [
    "print (list1)\n",
    "print (list2)\n",
    "print (list3)"
   ]
  },
  {
   "cell_type": "code",
   "execution_count": 13,
   "metadata": {
    "collapsed": true
   },
   "outputs": [],
   "source": [
    "#Q10\n",
    "s1 = \"This is introduction to python for web development\""
   ]
  },
  {
   "cell_type": "code",
   "execution_count": 14,
   "metadata": {},
   "outputs": [
    {
     "name": "stdout",
     "output_type": "stream",
     "text": [
      "This@is@introduction@to@python@for@web@development\n",
      "['This', 'is', 'introduction', 'to', 'python', 'for', 'web', 'development']\n"
     ]
    }
   ],
   "source": [
    "X = ('@').join(s1.split(' '))\n",
    "print (X)\n",
    "print (X.split('@'))"
   ]
  },
  {
   "cell_type": "code",
   "execution_count": 15,
   "metadata": {},
   "outputs": [
    {
     "name": "stdout",
     "output_type": "stream",
     "text": [
      "['This', 'is', 'introduction', 'to', 'python', 'for', 'web', 'development']\n"
     ]
    }
   ],
   "source": [
    "print (s1.split( ))"
   ]
  },
  {
   "cell_type": "code",
   "execution_count": 41,
   "metadata": {},
   "outputs": [
    {
     "name": "stdout",
     "output_type": "stream",
     "text": [
      "@ 1\n",
      "@@ 2\n",
      "@@@ 3\n",
      "@@@@ 4\n",
      "@@@@@ 5\n"
     ]
    }
   ],
   "source": [
    "#q11\n",
    "root = '@'\n",
    "for ix in range(1,6):\n",
    "    print (root*ix,ix)"
   ]
  },
  {
   "cell_type": "markdown",
   "metadata": {},
   "source": []
  },
  {
   "cell_type": "code",
   "execution_count": 59,
   "metadata": {},
   "outputs": [
    {
     "name": "stdout",
     "output_type": "stream",
     "text": [
      "['', 'bababa']\n"
     ]
    }
   ],
   "source": [
    "#Q12\n",
    "some_string = \"abacdaegakialaop\"\n",
    "dummy_string = 'abababa'\n",
    "ans = dummy_string.split('a',1)\n",
    "print (ans)"
   ]
  },
  {
   "cell_type": "code",
   "execution_count": 18,
   "metadata": {
    "collapsed": true
   },
   "outputs": [],
   "source": [
    "dummy_string.split?"
   ]
  },
  {
   "cell_type": "code",
   "execution_count": 62,
   "metadata": {},
   "outputs": [],
   "source": [
    "dummy_string.split?"
   ]
  },
  {
   "cell_type": "code",
   "execution_count": null,
   "metadata": {
    "collapsed": true
   },
   "outputs": [],
   "source": []
  },
  {
   "cell_type": "code",
   "execution_count": null,
   "metadata": {
    "collapsed": true
   },
   "outputs": [],
   "source": []
  }
 ],
 "metadata": {
  "kernelspec": {
   "display_name": "Python 3",
   "language": "python",
   "name": "python3"
  },
  "language_info": {
   "codemirror_mode": {
    "name": "ipython",
    "version": 3
   },
   "file_extension": ".py",
   "mimetype": "text/x-python",
   "name": "python",
   "nbconvert_exporter": "python",
   "pygments_lexer": "ipython3",
   "version": "3.6.3"
  }
 },
 "nbformat": 4,
 "nbformat_minor": 2
}
